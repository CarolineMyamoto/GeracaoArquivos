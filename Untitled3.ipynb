{
 "cells": [
  {
   "cell_type": "code",
   "execution_count": 23,
   "id": "df078722",
   "metadata": {},
   "outputs": [
    {
     "name": "stdout",
     "output_type": "stream",
     "text": [
      "ou aqui\n",
      "<google.oauth2.service_account.Credentials object at 0x7fedbc2a1550>\n",
      "gs://bicredits-corp-export-interno/ /alloc/data/fury_bi-credits-negocio/CRD_INFOPAYMENTS_CITI_CONS_MLM.zip\n"
     ]
    }
   ],
   "source": [
    "#Conecta Gdrive e copia o arquivo zipado para a raiz do caminho\n",
    "#!pip install --upgrade google-cloud-storage\n",
    "#!pip install cloudstorage\n",
    "#!pip install --upgrade google-api-python-client\n",
    "from apiclient import discovery\n",
    "from apiclient.http import MediaFileUpload\n",
    "from google.oauth2 import service_account\n",
    "import glob\n",
    "import json\n",
    "import base64\n",
    "import logging\n",
    "from google.cloud import storage\n",
    "from google.cloud.storage import blob\n",
    "#from google.appengine.api import app_identity\n",
    "import os\n",
    "\n",
    "#GCP_CREDENTIALS = os.environ['SECRET_KEY_CREDENCIALS_GCP']\n",
    "#KEY_CREDENCIALS_GCP\n",
    "\n",
    "path_export = './'\n",
    "key_info = os.environ['SECRET_KEY_CREDENCIALS_GCP']\n",
    "#print (key_info)\n",
    "folder_id = 'gs://bicredits-corp-export-interno/'\n",
    "path_send_files = path_export\n",
    "tam = len(path_export)\n",
    "\n",
    "print('ou aqui')\n",
    "\n",
    "def drive_credentials_from_file():\n",
    "    SCOPES = ('https://www.googleapis.com/auth/drive','https://www.googleapis.com/auth/cloud-platform','https://www.googleapis.com/auth/devstorage.full_control','https://www.googleapis.com/storage/v1/b/bucket')\n",
    "    service_account_info = json.loads(base64.b64decode(key_info))\n",
    "    credentials = service_account.Credentials.from_service_account_info(service_account_info, scopes=SCOPES)\n",
    "    return credentials\n",
    "\n",
    "credentials = drive_credentials_from_file()\n",
    "print(credentials)\n",
    "\n",
    "def client_gcs():\n",
    "    storage_client = storage.Client()\n",
    "    buckets = list(storage_client.list_buckets())\n",
    "    bucket = storage_client.get_bucket('bicredits-corp-export-interno')\n",
    "    blob = bucket.glob('https://console.cloud.google.com/storage/browser/bicredits-corp-export-interno/')\n",
    "    blob.upload_from_filename('/alloc/data/fury_bi-credits-negocio/CRD_INFOPAYMENTS_CITI_CONS_MLM.zip')\n",
    "    \n",
    "    #bucket=client.get_bucket('your bucket name');  \n",
    "    #blob=bucket.blob('newfile you want to create')\n",
    "    #blob.upload_from_filename('localdirectory/filename.mp4')\n",
    "\n",
    "def send_files_gcloud(path_send_files, folder_id):\n",
    "    credentials = drive_credentials_from_file()\n",
    "    service = discovery.build('drive', 'v3', credentials=credentials)\n",
    "       \n",
    "#  bucket =  credentials.get_bucket('bicredits-corp-export-interno')\n",
    "#  blob = Blob(folder_id)\n",
    "#  blob.upload_from_filename(path_send_files,f'CRD_INFOPAYMENTS_CITI_CONS_MLM.zip')\n",
    "\n",
    "#for filename in glob.glob(f'CRD_INFOPAYMENTS_CITI_CONS_MLM.zip'):\n",
    "#       send_files_gcloud(path_send_files, folder_id)\n",
    "\n",
    "folder_id = \"gs://bicredits-corp-export-interno/\"\n",
    "filename = '/alloc/data/fury_bi-credits-negocio/CRD_INFOPAYMENTS_CITI_CONS_MLM.zip'\n",
    "        #print ( blob . download_as_bytes ())\n",
    "print(folder_id,filename)\n",
    "\n",
    "# send_files_gcloud('./',f'CRD_INFOPAYMENTS_CITI_CONS_MLM.zip','gs://bicredits-corp-export-interno/')"
   ]
  },
  {
   "cell_type": "code",
   "execution_count": null,
   "id": "88831645",
   "metadata": {},
   "outputs": [],
   "source": []
  }
 ],
 "metadata": {
  "kernelspec": {
   "display_name": "Python 3 (ipykernel)",
   "language": "python",
   "name": "python3"
  },
  "language_info": {
   "codemirror_mode": {
    "name": "ipython",
    "version": 3
   },
   "file_extension": ".py",
   "mimetype": "text/x-python",
   "name": "python",
   "nbconvert_exporter": "python",
   "pygments_lexer": "ipython3",
   "version": "3.7.4"
  }
 },
 "nbformat": 4,
 "nbformat_minor": 5
}
